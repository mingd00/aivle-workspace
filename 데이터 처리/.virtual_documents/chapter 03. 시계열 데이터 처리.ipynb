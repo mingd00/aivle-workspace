








import pandas as pd
import numpy as np
import matplotlib.pyplot as plt
import seaborn as sns








sales = pd.read_csv("https://raw.githubusercontent.com/DA4BAM/dataset/master/ts_sales_simple.csv")
products = pd.read_csv("https://raw.githubusercontent.com/DA4BAM/dataset/master/ts_product_master.csv")





# 판매액 계산하기
temp = pd.merge(sales, products)
temp['Amt' ] = temp['Qty'] * temp['Price']
temp['Amt'] = (temp['Amt']/1000).round()  # 단위 1000달러

# 집계
data1 = temp.groupby(['Date', 'Category'], as_index = False)['Amt'].sum()
data2 = temp.groupby(['Date'], as_index = False)['Amt'].sum()

# 피봇
data11 = data1.pivot(index = 'Date', columns = 'Category', values = 'Amt').reset_index()

# 합치기
data = pd.merge(data2, data11)





data.head()











data.info()


data['Date'] = pd.to_datetime(data['Date'])


data.info()





# pd.to_datetime(date, format = '%d/%m/%Y') # format = '%d/%m/%Y' 입력되는 날짜가 이런 형태야~~ 라고 알려주는 옵션
date = pd.Series(['03-01-2023', '03-02-2023', '03-03-2023'])
date = pd.to_datetime(date)
date


# 만약 dd-mm-yyyy 이 맞다면!
date = pd.Series(['03-01-2023', '03-02-2023', '03-03-2023'])
date = pd.to_datetime(date, format = '%d-%m-%Y') #입력받은 날짜 데이터 형식이 '%d-%m-%Y'!
date





# 연도
date.dt.year


# 월
date.dt.month


# 일
date.dt.day


# 요일
date.dt.weekday


# 요일 이름
date.dt.day_name()








data['day_name'] = data['Date'].dt.day_name()
data['week'] = data['Date'].dt.day // 7 + 1
data.head()








temp = data.loc[:,['Date','Amt']]
temp.head()


# 전날 매출액 열을 추가합시다.
temp['Amt_lag'] = temp['Amt'].shift() #default = 1

# 전전날 매출액 열을 추가.
temp['Amt_lag2'] = temp['Amt'].shift(2) # 2행 shift

# 다음날 매출액 열을 추가합시다.
temp['Amt_lag_1'] = temp['Amt'].shift(-1)

temp.head()





# 7일 이동평균 매출액을 구해 봅시다.
temp['Amt_MA7_1'] = temp['Amt'].rolling(7).mean() # 7개 미만의 데이터 포인트가 있는 경우 NaN
temp['Amt_MA7_2'] = temp['Amt'].rolling(7, min_periods = 1).mean() # 7개의 포인트 전까지는 해당 시점까지의 평균을 계산
temp.head(10)





# 7일 이동평균 매출액을 구해 봅시다.
temp['Amt_D1'] = temp['Amt'].diff()
temp['Amt_D2'] = temp['Amt'].diff(2)
temp.head(10)








data.head()


# 전날 매출액
data['G_lag1'] = data['Grocery'].shift()

# 7일 전(전주 동 요일) 매출액
data['G_lag7'] = data['Grocery'].shift(7)

# 3일 이동평균 매출액
data['G_ma3'] = data['Grocery'].rolling(3).mean()
data
# 전날대비 매출액 증감여부 (증가 1, 감소 -1, 동일 0)
data['status'] = np.where(data['Grocery'].diff() > 0, 1, np.where(data['Grocery'].diff() < 0, -1, 0))
data.head(10)



