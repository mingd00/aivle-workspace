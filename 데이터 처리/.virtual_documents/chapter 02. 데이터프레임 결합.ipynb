








import pandas as pd
import numpy as np
import matplotlib.pyplot as plt
import seaborn as sns





sales = pd.read_csv("https://raw.githubusercontent.com/DA4BAM/dataset/master/ts_sales_simple.csv")

sales1 = sales.loc[sales['Store_ID']==1]
sales2 = sales.loc[sales['Store_ID']==2]
sales5 = sales.loc[sales['Store_ID']==5]
sales11 = sales.loc[sales['Store_ID']==11]

products = pd.read_csv("https://raw.githubusercontent.com/DA4BAM/dataset/master/ts_product_master.csv")
stores = pd.read_csv("https://raw.githubusercontent.com/DA4BAM/dataset/master/ts_store_master.csv")


sales1.head()


products.head()


stores.head()








df1 = pd.DataFrame({'A':[10,25], 'B':[15,30]})
df2 = pd.DataFrame({'A':[20,30, 50], 'C':[35,30, 40]})
df2.drop([1], inplace = True)

display(df1)
display(df2)








pd.concat([df1, df2], axis = 0, join = 'inner')





pd.concat([df1, df2], axis = 0, join = 'outer')








pd.concat([df1, df2], axis = 1, join = 'inner')





pd.concat([df1, df2], axis = 1, join = 'outer')








sales = pd.concat([sales1, sales2, sales5, sales11], axis = 0)
sales.head()





# as_index=True(기본값): 그룹화에 사용된 열이 인덱스가 됨
s1 = sales1.groupby(['Date'], as_index=False)['Qty'].agg(Store1_Qty='sum')
s2 = sales2.groupby(['Date'], as_index=False)['Qty'].agg(Store2_Qty='sum')
s5 = sales5.groupby(['Date'], as_index=False)['Qty'].agg(Store3_Qty='sum')
s11 = sales11.groupby(['Date'], as_index=False)['Qty'].agg(Store4_Qty='sum')


pd.concat([s1, s2, s5, s11], axis=1)








df1 = pd.DataFrame({'A':[1,2], 'B':[15,30], 'C':[20, 25]})
df2 = pd.DataFrame({'A':[2,3], 'D':[20, 35]})

display(df1)
display(df2)





pd.merge(df1, df2, how = 'inner', on = 'A')


pd.merge(df1, df2, how = 'inner')





pd.merge(df1, df2, how = 'left')





pd.merge(df1, df2, how = 'right')








s1 = sales1.groupby(['Date'], as_index=False)['Qty'].agg(Store1_Qty='sum')
s2 = sales2.groupby(['Date'], as_index=False)['Qty'].agg(Store2_Qty='sum')
s5 = sales5.groupby(['Date'], as_index=False)['Qty'].agg(Store3_Qty='sum')
s11 = sales11.groupby(['Date'], as_index=False)['Qty'].agg(Store4_Qty='sum')


s_gg = pd.merge(s1, s2)
s_gg = pd.merge(s_gg, s5)
s_gg = pd.merge(s_gg, s11)
s_gg.head()





m_1 = pd.merge(sales1, products, on='Product_ID')
m_1 = m_1.groupby(['Date', 'Category'])['Qty'].agg(s='sum')
m_1





stores.head()


m_s = pd.merge(sales, stores)
m_s.groupby(['City'], as_index=False)['Qty'].sum()





# 1) 매장1의 일별 카테고리별 판매량을 집계

temp = pd.merge(sales1, products)
temp2 = temp.groupby(['Date', 'Category'], as_index=False)['Qty'].sum()
temp2


# 2) pivot(행, 열, 값 지정)
temp3 = temp2.pivot(index='Category', columns='Date', values='Qty')
temp3


# sns.heatmap으로 시각화 할 수도 있습니다!

plt.figure(figsize = (20, 6))
sns.heatmap(temp3)
plt.show()





# 라이브러리 불러오기
import pandas as pd


sales = pd.read_csv("https://raw.githubusercontent.com/DA4BAM/dataset/master/ts_sales_simple.csv")
products = pd.read_csv("https://raw.githubusercontent.com/DA4BAM/dataset/master/ts_product_master.csv")
stores = pd.read_csv("https://raw.githubusercontent.com/DA4BAM/dataset/master/ts_store_master.csv")


sales.head()


sales['Qty'].value_counts()


products.head()


stores.head()





tmp = pd.merge(sales, products[['Product_ID', 'Price', 'Category']])
tmp['Amt'] = tmp['Qty'] * tmp['Price']
tmp['Amt'].value_counts()





ss = pd.merge(tmp, stores)
ss.groupby(['City'], as_index=False)['Amt'].sum()





ts = pd.merge(tmp, stores)
ts.groupby(['City', 'Category'], as_index=False)['Amt'].sum()





ts.groupby(['State'])['Amt'].agg(s='sum').sort_values(by='s', ascending=False).head(3)












